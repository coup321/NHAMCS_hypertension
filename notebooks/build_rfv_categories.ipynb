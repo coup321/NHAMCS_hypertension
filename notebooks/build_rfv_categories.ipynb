{
 "cells": [
  {
   "cell_type": "markdown",
   "metadata": {},
   "source": [
    "# Data View Notebook\n",
    "Mainly used for viewing or quickly reviewing/sorting/testing of the working / raw datasets."
   ]
  },
  {
   "cell_type": "code",
   "execution_count": 1,
   "metadata": {},
   "outputs": [],
   "source": [
    "import sys\n",
    "sys.path.append('../')\n",
    "\n",
    "\n",
    "import pandas as pd\n",
    "import numpy as np\n",
    "import matplotlib.pyplot as plt\n",
    "import re\n",
    "%load_ext autoreload\n",
    "%autoreload 2\n",
    "%reload_ext autoreload"
   ]
  },
  {
   "cell_type": "code",
   "execution_count": 2,
   "metadata": {},
   "outputs": [],
   "source": [
    "df = pd.read_pickle('../outputs/working_dataframe.pkl')\n",
    "raw_df = pd.read_pickle('../outputs/working_raw_dataframe.pkl')\n"
   ]
  },
  {
   "cell_type": "code",
   "execution_count": 18,
   "metadata": {},
   "outputs": [],
   "source": [
    "raw_df[[col for col in raw_df.columns if re.search('RFV\\d$', col)]].melt(value_name='RFV_values').RFV_values.value_counts().to_csv('RFV_counts.csv')"
   ]
  },
  {
   "cell_type": "code",
   "execution_count": 6,
   "metadata": {},
   "outputs": [
    {
     "data": {
      "text/plain": [
       "['RFV1',\n",
       " 'RFV2',\n",
       " 'RFV3',\n",
       " 'RFV4',\n",
       " 'RFV5',\n",
       " 'RFV13D',\n",
       " 'RFV23D',\n",
       " 'RFV33D',\n",
       " 'RFV43D',\n",
       " 'RFV53D']"
      ]
     },
     "execution_count": 6,
     "metadata": {},
     "output_type": "execute_result"
    }
   ],
   "source": [
    "[col for col in raw_df.columns if re.search('RFV', col)]"
   ]
  },
  {
   "cell_type": "code",
   "execution_count": 7,
   "metadata": {},
   "outputs": [],
   "source": [
    "df.RFV1.value_counts().to_csv('temp_rfv.csv')"
   ]
  },
  {
   "cell_type": "code",
   "execution_count": 9,
   "metadata": {},
   "outputs": [
    {
     "data": {
      "text/plain": [
       "DIAG1\n",
       "Chest pain, unspecified                                    2985\n",
       "Unspecified abdominal pain                                 2337\n",
       "Other chest pain                                           1386\n",
       "Headache                                                   1322\n",
       "Pain in joint                                              1064\n",
       "                                                           ... \n",
       "Chronic periodontitis, unspecified                            1\n",
       "Other tear of cartilage or meniscus o...                      1\n",
       "Toxic effect of soaps and detergents                          1\n",
       "Other specified conditions originating perinatal period       1\n",
       "Nevus, non-neoplastic                                         1\n",
       "Name: count, Length: 4067, dtype: int64"
      ]
     },
     "execution_count": 9,
     "metadata": {},
     "output_type": "execute_result"
    }
   ],
   "source": [
    "df.DIAG1.value_counts()"
   ]
  },
  {
   "cell_type": "code",
   "execution_count": null,
   "metadata": {},
   "outputs": [],
   "source": []
  }
 ],
 "metadata": {
  "kernelspec": {
   "display_name": "Python 3.9.7 ('base')",
   "language": "python",
   "name": "python3"
  },
  "language_info": {
   "codemirror_mode": {
    "name": "ipython",
    "version": 3
   },
   "file_extension": ".py",
   "mimetype": "text/x-python",
   "name": "python",
   "nbconvert_exporter": "python",
   "pygments_lexer": "ipython3",
   "version": "3.9.13"
  },
  "orig_nbformat": 4,
  "vscode": {
   "interpreter": {
    "hash": "ad2bdc8ecc057115af97d19610ffacc2b4e99fae6737bb82f5d7fb13d2f2c186"
   }
  }
 },
 "nbformat": 4,
 "nbformat_minor": 2
}

{
 "cells": [
  {
   "cell_type": "markdown",
   "metadata": {},
   "source": [
    "# Data View Notebook\n",
    "Mainly used for viewing or quickly reviewing/sorting/testing of the working / raw datasets."
   ]
  },
  {
   "cell_type": "code",
   "execution_count": 1,
   "metadata": {},
   "outputs": [],
   "source": [
    "import sys\n",
    "sys.path.append('../')\n",
    "\n",
    "\n",
    "import pandas as pd\n",
    "import numpy as np\n",
    "import matplotlib.pyplot as plt\n",
    "%load_ext autoreload\n",
    "%autoreload 2\n",
    "%reload_ext autoreload"
   ]
  },
  {
   "cell_type": "code",
   "execution_count": 2,
   "metadata": {},
   "outputs": [],
   "source": [
    "df = pd.read_pickle('../outputs/working_dataframe.pkl')\n",
    "raw_df = pd.read_pickle('../outputs/working_raw_dataframe.pkl')\n"
   ]
  },
  {
   "cell_type": "code",
   "execution_count": 3,
   "metadata": {},
   "outputs": [
    {
     "data": {
      "text/plain": [
       "Index(['YEAR', 'VMONTH', 'VDAYR', 'ARRTIME', 'AGE', 'SEX', 'RACERETH', 'CPR',\n",
       "       'ADMITHOS', 'ADISP',\n",
       "       ...\n",
       "       'DIED', 'ED_LOS', 'HOSP_LOS', 'MIDLEVEL', 'DYSPNEA_VISIT',\n",
       "       'CHEST_PAIN_VISIT', 'ABDOMINAL_PAIN_VISIT', 'TYLENOL_GIVEN',\n",
       "       'ANTIHYPERTENSIVE_GIVEN', 'ANTIHYPERTENSIVE_RX'],\n",
       "      dtype='object', length=129)"
      ]
     },
     "execution_count": 3,
     "metadata": {},
     "output_type": "execute_result"
    }
   ],
   "source": [
    "df.columns"
   ]
  },
  {
   "cell_type": "code",
   "execution_count": 12,
   "metadata": {},
   "outputs": [
    {
     "data": {
      "text/plain": [
       "Index(['VMONTH', 'VDAYR', 'ARRTIME', 'WAITTIME', 'LOV', 'AGE', 'AGER',\n",
       "       'AGEDAYS', 'RESIDNCE', 'SEX',\n",
       "       ...\n",
       "       'REFSOCS', 'TRANSFER', 'RFTRANS', 'ADMITOBS', 'RACEFL', 'IMMEDFL',\n",
       "       'OBSED', 'RACEIM', 'RACEETH', 'PAYTYPE'],\n",
       "      dtype='object', length=1219)"
      ]
     },
     "execution_count": 12,
     "metadata": {},
     "output_type": "execute_result"
    }
   ],
   "source": [
    "raw_df.columns"
   ]
  },
  {
   "cell_type": "code",
   "execution_count": null,
   "metadata": {},
   "outputs": [],
   "source": []
  }
 ],
 "metadata": {
  "kernelspec": {
   "display_name": "Python 3.9.7 ('base')",
   "language": "python",
   "name": "python3"
  },
  "language_info": {
   "codemirror_mode": {
    "name": "ipython",
    "version": 3
   },
   "file_extension": ".py",
   "mimetype": "text/x-python",
   "name": "python",
   "nbconvert_exporter": "python",
   "pygments_lexer": "ipython3",
   "version": "3.9.13"
  },
  "orig_nbformat": 4,
  "vscode": {
   "interpreter": {
    "hash": "ad2bdc8ecc057115af97d19610ffacc2b4e99fae6737bb82f5d7fb13d2f2c186"
   }
  }
 },
 "nbformat": 4,
 "nbformat_minor": 2
}

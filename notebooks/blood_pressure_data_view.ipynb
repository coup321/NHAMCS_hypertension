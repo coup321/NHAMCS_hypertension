{
 "cells": [
  {
   "cell_type": "markdown",
   "metadata": {},
   "source": [
    "# Data View Notebook\n",
    "Mainly used for viewing or quickly reviewing/sorting/testing of the working / raw datasets."
   ]
  },
  {
   "cell_type": "code",
   "execution_count": 1,
   "metadata": {},
   "outputs": [],
   "source": [
    "import sys\n",
    "sys.path.append('../')\n",
    "\n",
    "\n",
    "import pandas as pd\n",
    "import numpy as np\n",
    "import matplotlib.pyplot as plt\n",
    "%load_ext autoreload\n",
    "%autoreload 2\n",
    "%reload_ext autoreload"
   ]
  },
  {
   "cell_type": "code",
   "execution_count": 2,
   "metadata": {},
   "outputs": [],
   "source": [
    "df = pd.read_pickle('../outputs/working_dataframe.pkl')\n",
    "raw_df = pd.read_pickle('../outputs/working_raw_dataframe.pkl')\n"
   ]
  },
  {
   "cell_type": "code",
   "execution_count": 7,
   "metadata": {},
   "outputs": [],
   "source": [
    "df.RFV1.value_counts().to_csv('temp_rfv.csv')"
   ]
  },
  {
   "cell_type": "code",
   "execution_count": 9,
   "metadata": {},
   "outputs": [
    {
     "data": {
      "text/plain": [
       "DIAG1\n",
       "Chest pain, unspecified                                    2985\n",
       "Unspecified abdominal pain                                 2337\n",
       "Other chest pain                                           1386\n",
       "Headache                                                   1322\n",
       "Pain in joint                                              1064\n",
       "                                                           ... \n",
       "Chronic periodontitis, unspecified                            1\n",
       "Other tear of cartilage or meniscus o...                      1\n",
       "Toxic effect of soaps and detergents                          1\n",
       "Other specified conditions originating perinatal period       1\n",
       "Nevus, non-neoplastic                                         1\n",
       "Name: count, Length: 4067, dtype: int64"
      ]
     },
     "execution_count": 9,
     "metadata": {},
     "output_type": "execute_result"
    }
   ],
   "source": [
    "df.DIAG1.value_counts()"
   ]
  },
  {
   "cell_type": "code",
   "execution_count": 14,
   "metadata": {},
   "outputs": [],
   "source": [
    "import re"
   ]
  },
  {
   "cell_type": "code",
   "execution_count": 17,
   "metadata": {},
   "outputs": [
    {
     "data": {
      "text/html": [
       "<div>\n",
       "<style scoped>\n",
       "    .dataframe tbody tr th:only-of-type {\n",
       "        vertical-align: middle;\n",
       "    }\n",
       "\n",
       "    .dataframe tbody tr th {\n",
       "        vertical-align: top;\n",
       "    }\n",
       "\n",
       "    .dataframe thead th {\n",
       "        text-align: right;\n",
       "    }\n",
       "</style>\n",
       "<table border=\"1\" class=\"dataframe\">\n",
       "  <thead>\n",
       "    <tr style=\"text-align: right;\">\n",
       "      <th></th>\n",
       "      <th>PULSE</th>\n",
       "      <th>PULSED</th>\n",
       "    </tr>\n",
       "  </thead>\n",
       "  <tbody>\n",
       "    <tr>\n",
       "      <th>0</th>\n",
       "      <td>90.0</td>\n",
       "      <td>Blank</td>\n",
       "    </tr>\n",
       "    <tr>\n",
       "      <th>1</th>\n",
       "      <td>77.0</td>\n",
       "      <td>Blank</td>\n",
       "    </tr>\n",
       "    <tr>\n",
       "      <th>2</th>\n",
       "      <td>80.0</td>\n",
       "      <td>73.0</td>\n",
       "    </tr>\n",
       "    <tr>\n",
       "      <th>3</th>\n",
       "      <td>78.0</td>\n",
       "      <td>Blank</td>\n",
       "    </tr>\n",
       "    <tr>\n",
       "      <th>4</th>\n",
       "      <td>105.0</td>\n",
       "      <td>Blank</td>\n",
       "    </tr>\n",
       "    <tr>\n",
       "      <th>...</th>\n",
       "      <td>...</td>\n",
       "      <td>...</td>\n",
       "    </tr>\n",
       "    <tr>\n",
       "      <th>16202</th>\n",
       "      <td>105.0</td>\n",
       "      <td>94.0</td>\n",
       "    </tr>\n",
       "    <tr>\n",
       "      <th>16203</th>\n",
       "      <td>103.0</td>\n",
       "      <td>93.0</td>\n",
       "    </tr>\n",
       "    <tr>\n",
       "      <th>16204</th>\n",
       "      <td>122.0</td>\n",
       "      <td>133.0</td>\n",
       "    </tr>\n",
       "    <tr>\n",
       "      <th>16205</th>\n",
       "      <td>103.0</td>\n",
       "      <td>95.0</td>\n",
       "    </tr>\n",
       "    <tr>\n",
       "      <th>16206</th>\n",
       "      <td>104.0</td>\n",
       "      <td>Blank</td>\n",
       "    </tr>\n",
       "  </tbody>\n",
       "</table>\n",
       "<p>128076 rows × 2 columns</p>\n",
       "</div>"
      ],
      "text/plain": [
       "       PULSE PULSED\n",
       "0       90.0  Blank\n",
       "1       77.0  Blank\n",
       "2       80.0   73.0\n",
       "3       78.0  Blank\n",
       "4      105.0  Blank\n",
       "...      ...    ...\n",
       "16202  105.0   94.0\n",
       "16203  103.0   93.0\n",
       "16204  122.0  133.0\n",
       "16205  103.0   95.0\n",
       "16206  104.0  Blank\n",
       "\n",
       "[128076 rows x 2 columns]"
      ]
     },
     "execution_count": 17,
     "metadata": {},
     "output_type": "execute_result"
    }
   ],
   "source": [
    "raw_df[['PULSE','PULSED']]"
   ]
  },
  {
   "cell_type": "code",
   "execution_count": 16,
   "metadata": {},
   "outputs": [
    {
     "data": {
      "text/plain": [
       "['PULSE', 'PULSED']"
      ]
     },
     "execution_count": 16,
     "metadata": {},
     "output_type": "execute_result"
    }
   ],
   "source": [
    "[col for col in raw_df.columns if re.search('PULSE', col)]"
   ]
  },
  {
   "cell_type": "code",
   "execution_count": 8,
   "metadata": {},
   "outputs": [
    {
     "name": "stdout",
     "output_type": "stream",
     "text": [
      "YEAR\n",
      "VMONTH\n",
      "VDAYR\n",
      "ARRTIME\n",
      "AGE\n",
      "SEX\n",
      "RACERETH\n",
      "CPR\n",
      "ADMITHOS\n",
      "ADISP\n",
      "REGION\n",
      "MSA\n",
      "PAYTYPER\n",
      "BPSYS\n",
      "BPSYSD\n",
      "BPDIAS\n",
      "BPDIASD\n",
      "XRAY\n",
      "HTN\n",
      "ARREMS\n",
      "HDSTAT\n",
      "DOA\n",
      "DIEDED\n",
      "LOS\n",
      "LOV\n",
      "LUMBAR\n",
      "MRI\n",
      "CATSCAN\n",
      "CBC\n",
      "CARDENZ\n",
      "PAINSCALE\n",
      "IMMEDR\n",
      "ATTPHYS\n",
      "RESINT\n",
      "CSTRATM\n",
      "CPSUM\n",
      "PATWT\n",
      "DIAG1\n",
      "DIAG2\n",
      "DIAG3\n",
      "DIAG4\n",
      "DIAG5\n",
      "RFV1\n",
      "RFV2\n",
      "RFV3\n",
      "RFV4\n",
      "RFV5\n",
      "MED1\n",
      "MED2\n",
      "MED3\n",
      "MED4\n",
      "MED5\n",
      "MED6\n",
      "MED7\n",
      "MED8\n",
      "MED9\n",
      "MED10\n",
      "MED11\n",
      "MED12\n",
      "MED13\n",
      "MED14\n",
      "MED15\n",
      "MED16\n",
      "MED17\n",
      "MED18\n",
      "MED19\n",
      "MED20\n",
      "MED21\n",
      "MED22\n",
      "MED23\n",
      "MED24\n",
      "MED25\n",
      "MED26\n",
      "MED27\n",
      "MED28\n",
      "MED29\n",
      "MED30\n",
      "GPMED1\n",
      "GPMED2\n",
      "GPMED3\n",
      "GPMED4\n",
      "GPMED5\n",
      "GPMED6\n",
      "GPMED7\n",
      "GPMED8\n",
      "GPMED9\n",
      "GPMED10\n",
      "GPMED11\n",
      "GPMED12\n",
      "GPMED13\n",
      "GPMED14\n",
      "GPMED15\n",
      "GPMED16\n",
      "GPMED17\n",
      "GPMED18\n",
      "GPMED19\n",
      "GPMED20\n",
      "GPMED21\n",
      "GPMED22\n",
      "GPMED23\n",
      "GPMED24\n",
      "GPMED25\n",
      "GPMED26\n",
      "GPMED27\n",
      "GPMED28\n",
      "GPMED29\n",
      "GPMED30\n",
      "VTIME\n",
      "VTIMER\n",
      "TROPONIN\n",
      "ATTENDING\n",
      "RESIDENT\n",
      "AGE_BIN\n",
      "HX_HTN\n",
      "NO_TRIAGE_BP\n",
      "STROKE\n",
      "MI\n",
      "HTNEMERGENCY\n",
      "HTN_COMPLICATION\n",
      "DIED\n",
      "ED_LOS\n",
      "HOSP_LOS\n",
      "MIDLEVEL\n",
      "DYSPNEA_VISIT\n",
      "CHEST_PAIN_VISIT\n",
      "ABDOMINAL_PAIN_VISIT\n",
      "TYLENOL_GIVEN\n",
      "ANTIHYPERTENSIVE_GIVEN\n",
      "ANTIHYPERTENSIVE_RX\n"
     ]
    }
   ],
   "source": [
    "for col in df.columns:\n",
    "    print(col)"
   ]
  },
  {
   "cell_type": "code",
   "execution_count": 6,
   "metadata": {},
   "outputs": [
    {
     "data": {
      "text/plain": [
       "137.4629484650153"
      ]
     },
     "execution_count": 6,
     "metadata": {},
     "output_type": "execute_result"
    }
   ],
   "source": [
    "df.BPSYS.mean()"
   ]
  },
  {
   "cell_type": "code",
   "execution_count": 3,
   "metadata": {},
   "outputs": [
    {
     "data": {
      "text/plain": [
       "Index(['YEAR', 'VMONTH', 'VDAYR', 'ARRTIME', 'AGE', 'SEX', 'RACERETH', 'CPR',\n",
       "       'ADMITHOS', 'ADISP',\n",
       "       ...\n",
       "       'DIED', 'ED_LOS', 'HOSP_LOS', 'MIDLEVEL', 'DYSPNEA_VISIT',\n",
       "       'CHEST_PAIN_VISIT', 'ABDOMINAL_PAIN_VISIT', 'TYLENOL_GIVEN',\n",
       "       'ANTIHYPERTENSIVE_GIVEN', 'ANTIHYPERTENSIVE_RX'],\n",
       "      dtype='object', length=129)"
      ]
     },
     "execution_count": 3,
     "metadata": {},
     "output_type": "execute_result"
    }
   ],
   "source": [
    "df.columns"
   ]
  },
  {
   "cell_type": "code",
   "execution_count": 12,
   "metadata": {},
   "outputs": [
    {
     "data": {
      "text/plain": [
       "Index(['VMONTH', 'VDAYR', 'ARRTIME', 'WAITTIME', 'LOV', 'AGE', 'AGER',\n",
       "       'AGEDAYS', 'RESIDNCE', 'SEX',\n",
       "       ...\n",
       "       'REFSOCS', 'TRANSFER', 'RFTRANS', 'ADMITOBS', 'RACEFL', 'IMMEDFL',\n",
       "       'OBSED', 'RACEIM', 'RACEETH', 'PAYTYPE'],\n",
       "      dtype='object', length=1219)"
      ]
     },
     "execution_count": 12,
     "metadata": {},
     "output_type": "execute_result"
    }
   ],
   "source": [
    "raw_df.columns"
   ]
  },
  {
   "cell_type": "code",
   "execution_count": null,
   "metadata": {},
   "outputs": [],
   "source": []
  }
 ],
 "metadata": {
  "kernelspec": {
   "display_name": "Python 3.9.7 ('base')",
   "language": "python",
   "name": "python3"
  },
  "language_info": {
   "codemirror_mode": {
    "name": "ipython",
    "version": 3
   },
   "file_extension": ".py",
   "mimetype": "text/x-python",
   "name": "python",
   "nbconvert_exporter": "python",
   "pygments_lexer": "ipython3",
   "version": "3.9.13"
  },
  "orig_nbformat": 4,
  "vscode": {
   "interpreter": {
    "hash": "ad2bdc8ecc057115af97d19610ffacc2b4e99fae6737bb82f5d7fb13d2f2c186"
   }
  }
 },
 "nbformat": 4,
 "nbformat_minor": 2
}
